{
 "cells": [
  {
   "cell_type": "markdown",
   "metadata": {
    "slideshow": {
     "slide_type": "slide"
    }
   },
   "source": [
    "# EMS Dispatch Simulator\n",
    "\n",
    "### Hans Yuen, Timothy Lam, Mauricio de Oliveira (FIX PLS)"
   ]
  },
  {
   "cell_type": "markdown",
   "metadata": {
    "slideshow": {
     "slide_type": "slide"
    }
   },
   "source": [
    "## Overview\n",
    "\n",
    "The EMS Dispatch Simulator is ...\n",
    "\n",
    "Primary Goals:\n",
    "1. A\n",
    "2. B"
   ]
  },
  {
   "cell_type": "markdown",
   "metadata": {
    "slideshow": {
     "slide_type": "slide"
    }
   },
   "source": [
    "## Simulation Components\n",
    "\n",
    "Simulating EMS requires the specification of three primary elements:\n",
    "\n",
    "1. **Cases:** The arrival of emergency calls\n",
    "2. **Environment:** EMS resources and regional travel times\n",
    "3. **Policies:** Decisions made during an emergency call\n",
    "\n",
    "These elements interact with each other to ..."
   ]
  },
  {
   "cell_type": "markdown",
   "metadata": {
    "slideshow": {
     "slide_type": "slide"
    }
   },
   "source": [
    "### Cases"
   ]
  },
  {
   "cell_type": "markdown",
   "metadata": {
    "slideshow": {
     "slide_type": "slide"
    }
   },
   "source": [
    "### Environment"
   ]
  },
  {
   "cell_type": "markdown",
   "metadata": {
    "slideshow": {
     "slide_type": "slide"
    }
   },
   "source": [
    "### Policies"
   ]
  },
  {
   "cell_type": "markdown",
   "metadata": {
    "slideshow": {
     "slide_type": "slide"
    }
   },
   "source": [
    "## Simulation Evaluation (Metrics)\n",
    "\n",
    "The simulation computes metrics during its lifetime to monitor the performance of EMS in a live scenario. This is useful for ..."
   ]
  },
  {
   "cell_type": "markdown",
   "metadata": {
    "slideshow": {
     "slide_type": "slide"
    }
   },
   "source": [
    "# RCT Case Study - Simulation Demonstration\n",
    "\n",
    "We will demonstrate the usage of the simulation tool to adapt to the RCT's use case. (@HANS DO WE WANT TO SHOW A MINIMUM EXAMPLE FIRST?)\n",
    "\n",
    "Primary Goals of the Case Study:\n",
    "1. A\n",
    "2. B"
   ]
  },
  {
   "cell_type": "code",
   "execution_count": 1,
   "metadata": {},
   "outputs": [],
   "source": [
    "# TODO transfer code from the All notebook; Run code via terminal"
   ]
  },
  {
   "cell_type": "code",
   "execution_count": null,
   "metadata": {},
   "outputs": [],
   "source": []
  }
 ],
 "metadata": {
  "celltoolbar": "Slideshow",
  "kernelspec": {
   "display_name": "Python 3",
   "language": "python",
   "name": "python3"
  },
  "language_info": {
   "codemirror_mode": {
    "name": "ipython",
    "version": 3
   },
   "file_extension": ".py",
   "mimetype": "text/x-python",
   "name": "python",
   "nbconvert_exporter": "python",
   "pygments_lexer": "ipython3",
   "version": "3.7.3"
  }
 },
 "nbformat": 4,
 "nbformat_minor": 2
}
